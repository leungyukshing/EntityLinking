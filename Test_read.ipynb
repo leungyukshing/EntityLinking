{
 "cells": [
  {
   "cell_type": "markdown",
   "metadata": {},
   "source": [
    "# Testing Notebook\n",
    "This notebook is used for reading data from csv files."
   ]
  },
  {
   "cell_type": "markdown",
   "metadata": {},
   "source": [
    "## Read Chinese Universities"
   ]
  },
  {
   "cell_type": "code",
   "execution_count": 1,
   "metadata": {},
   "outputs": [],
   "source": [
    "import pandas as pd\n",
    "path0 = 'data/chinese_university_list.csv'"
   ]
  },
  {
   "cell_type": "code",
   "execution_count": 2,
   "metadata": {},
   "outputs": [
    {
     "name": "stdout",
     "output_type": "stream",
     "text": [
      "  rank    name          code department city level notes\n",
      "0    1    北京大学  4.111010e+09        教育部  北京市    本科   NaN\n",
      "1    2  中国人民大学  4.111010e+09        教育部  北京市    本科   NaN\n",
      "2    3    清华大学  4.111010e+09        教育部  北京市    本科   NaN\n",
      "3    4  北京交通大学  4.111010e+09        教育部  北京市    本科   NaN\n",
      "4    5  北京工业大学  4.111010e+09        北京市  北京市    本科   NaN\n"
     ]
    }
   ],
   "source": [
    "df = pd.read_csv(path0, header=None, delimiter=\",\", skiprows=4, names=[\"rank\", \"name\", \"code\", \"department\", \"city\", \"level\", \"notes\"])\n",
    "print(df.head())"
   ]
  },
  {
   "cell_type": "code",
   "execution_count": 5,
   "metadata": {},
   "outputs": [
    {
     "name": "stdout",
     "output_type": "stream",
     "text": [
      "  rank    name\n",
      "0    1    北京大学\n",
      "1    2  中国人民大学\n",
      "2    3    清华大学\n",
      "3    4  北京交通大学\n",
      "4    5  北京工业大学\n",
      "(2718, 2)\n"
     ]
    }
   ],
   "source": [
    "df = pd.DataFrame(df, columns=['rank', 'name'])\n",
    "print(df.head())\n",
    "print(df.shape)"
   ]
  },
  {
   "cell_type": "markdown",
   "metadata": {},
   "source": [
    "## Read Global Universities"
   ]
  },
  {
   "cell_type": "code",
   "execution_count": 1,
   "metadata": {},
   "outputs": [],
   "source": [
    "import pandas as pd\n",
    "path1 = 'data/all_university.csv'"
   ]
  },
  {
   "cell_type": "code",
   "execution_count": 36,
   "metadata": {},
   "outputs": [
    {
     "name": "stdout",
     "output_type": "stream",
     "text": [
      "                                       Name_en Name_ch rank score  \\\n",
      "0                                           原名    中文名称   名次    总分   \n",
      "1  Massachusetts Institute of Technology (MIT)  麻省理工学院    1   100   \n",
      "2                          Stanford University   斯坦福大学    2  98.4   \n",
      "3                           Harvard University    哈佛大学    3  97.4   \n",
      "4                         University of Oxford    牛津大学    4  97.2   \n",
      "\n",
      "         location  \n",
      "0             所在地  \n",
      "1   United States  \n",
      "2   United States  \n",
      "3   United States  \n",
      "4  United Kingdom  \n"
     ]
    }
   ],
   "source": [
    "df = pd.read_csv(path1, header=None, delimiter=\",\", skiprows=1, names=['Name_en', 'Name_ch', 'rank', 'score', 'location'])\n",
    "print(df.head())"
   ]
  },
  {
   "cell_type": "code",
   "execution_count": 37,
   "metadata": {},
   "outputs": [
    {
     "name": "stdout",
     "output_type": "stream",
     "text": [
      "  rank Name_ch        location\n",
      "0   名次    中文名称             所在地\n",
      "1    1  麻省理工学院   United States\n",
      "2    2   斯坦福大学   United States\n",
      "3    3    哈佛大学   United States\n",
      "4    4    牛津大学  United Kingdom\n",
      "(952, 3)\n"
     ]
    }
   ],
   "source": [
    "df = pd.DataFrame(df, columns=['rank', 'Name_ch', 'location'])\n",
    "print(df.head())\n",
    "print(df.shape)"
   ]
  },
  {
   "cell_type": "markdown",
   "metadata": {},
   "source": [
    "## Read All Universities"
   ]
  },
  {
   "cell_type": "code",
   "execution_count": 2,
   "metadata": {},
   "outputs": [
    {
     "name": "stdout",
     "output_type": "stream",
     "text": [
      "2718\n",
      "952\n",
      "3670\n"
     ]
    },
    {
     "name": "stderr",
     "output_type": "stream",
     "text": [
      "c:\\users\\梁育诚\\appdata\\local\\programs\\python\\python36\\lib\\site-packages\\ipykernel_launcher.py:12: FutureWarning: Sorting because non-concatenation axis is not aligned. A future version\n",
      "of pandas will change to not sort by default.\n",
      "\n",
      "To accept the future behavior, pass 'sort=False'.\n",
      "\n",
      "To retain the current behavior and silence the warning, pass 'sort=True'.\n",
      "\n",
      "  if sys.path[0] == '':\n"
     ]
    }
   ],
   "source": [
    "import pandas as pd\n",
    "path0 = 'data/chinese_university_list.csv'\n",
    "df1 = pd.read_csv(path0, header=None, delimiter=\",\", skiprows=4, names=[\"rank\", \"name\", \"code\", \"department\", \"city\", \"level\", \"notes\"])\n",
    "df1 = pd.DataFrame(df1, columns=['name'])\n",
    "print(df1.shape[0])\n",
    "\n",
    "path1 = 'data/all_university.csv'\n",
    "df2 = pd.read_csv(path1, header=None, delimiter=\",\", skiprows=1, names=['Name_en', 'Name_ch', 'rank', 'score', 'location'])\n",
    "df2 = pd.DataFrame(df2, columns=['Name_ch'])\n",
    "print(df2.shape[0])\n",
    "\n",
    "df1 = pd.concat([df1, df2], axis=0, ignore_index=True)\n",
    "print(df1.shape[0])"
   ]
  },
  {
   "cell_type": "markdown",
   "metadata": {},
   "source": [
    "## Read Companies"
   ]
  },
  {
   "cell_type": "code",
   "execution_count": 38,
   "metadata": {},
   "outputs": [],
   "source": [
    "import pandas as pd\n",
    "path2 = 'data/company_list.csv'"
   ]
  },
  {
   "cell_type": "code",
   "execution_count": 48,
   "metadata": {},
   "outputs": [
    {
     "name": "stdout",
     "output_type": "stream",
     "text": [
      "   rank rank_last      Name_ch                     Name_en       Income  \\\n",
      "0     1       1\\n          沃爾瑪                  Walmart）\\n    500,343\\n   \n",
      "1     2       2\\n       国家电网公司                State Grid\\n  348,903.1\\n   \n",
      "2     3       3\\n   中国石油化工集团公司             SINOPEC Group\\n    326,953\\n   \n",
      "3     4       4\\n  中国石油天然气集团公司  China National Petroleum\\n  326,007.6\\n   \n",
      "4     5       7\\n   荷兰皇家壳牌石油公司         Royal Dutch Shell\\n    311,870\\n   \n",
      "\n",
      "     Profits  Location  \n",
      "0    9,862\\n      美国\\n  \n",
      "1  9,533.4\\n    中国大陸\\n  \n",
      "2  1,537.8\\n    中国大陸\\n  \n",
      "3   -690.5\\n    中国大陸\\n  \n",
      "4   12,977\\n   荷兰/英国\\n  \n"
     ]
    }
   ],
   "source": [
    "df = pd.read_csv(path2, header=None, delimiter=\",\", skiprows=1, names=['rank', 'rank_last', 'Name_ch', 'Name_en', 'Income', 'Profits', 'Location'])\n",
    "print(df.head())"
   ]
  },
  {
   "cell_type": "code",
   "execution_count": 49,
   "metadata": {},
   "outputs": [
    {
     "name": "stdout",
     "output_type": "stream",
     "text": [
      "   rank      Name_ch  Location\n",
      "0     1          沃爾瑪      美国\\n\n",
      "1     2       国家电网公司    中国大陸\\n\n",
      "2     3   中国石油化工集团公司    中国大陸\\n\n",
      "3     4  中国石油天然气集团公司    中国大陸\\n\n",
      "4     5   荷兰皇家壳牌石油公司   荷兰/英国\\n\n",
      "(500, 3)\n"
     ]
    }
   ],
   "source": [
    "df = pd.DataFrame(df, columns=['rank', 'Name_ch', 'Location'])\n",
    "print(df.head())\n",
    "print(df.shape)"
   ]
  },
  {
   "cell_type": "markdown",
   "metadata": {},
   "source": [
    "## Read Member Data"
   ]
  },
  {
   "cell_type": "code",
   "execution_count": 1,
   "metadata": {},
   "outputs": [],
   "source": [
    "import pandas as pd\n",
    "path3 = 'data/member-data.csv'"
   ]
  },
  {
   "cell_type": "code",
   "execution_count": 2,
   "metadata": {},
   "outputs": [
    {
     "name": "stdout",
     "output_type": "stream",
     "text": [
      "                                              Resume\n",
      "0  __团队成员#1__先生是公司创始人,也是中国最有影响力的商界领袖之一。1982年,__团队...\n",
      "1  __团队成员#2__先生,现任TCL集团股份有限公司执行董事、总裁(COO)。1963年4月...\n",
      "2  __团队成员#3__女士:1972年7月出生,中山大学法学博士,高级经济师。1993年6月至...\n",
      "3  __团队成员#4__先生,1965年7月出生,东方电气集团党组副书记、副总经理,兼任东方电气...\n",
      "4  __团队成员#5__女士,现任TCL多媒体集团有限公司非执行独立董事、A8新媒体集团非执行独...\n"
     ]
    }
   ],
   "source": [
    "df = pd.read_csv(path3, header=None, delimiter=\",\", skiprows=1, names=['Company', 'No.', 'Resume', 'Position'])\n",
    "df = pd.DataFrame(df, columns=['Resume'])\n",
    "print(df.head())"
   ]
  },
  {
   "cell_type": "code",
   "execution_count": 3,
   "metadata": {},
   "outputs": [
    {
     "data": {
      "text/plain": [
       "Resume    __团队成员#1__先生是公司创始人,也是中国最有影响力的商界领袖之一。1982年,__团队...\n",
       "Name: 0, dtype: object"
      ]
     },
     "execution_count": 3,
     "metadata": {},
     "output_type": "execute_result"
    }
   ],
   "source": [
    "df.iloc[0,:]"
   ]
  },
  {
   "cell_type": "code",
   "execution_count": 7,
   "metadata": {},
   "outputs": [],
   "source": [
    "import pandas as pd\n",
    "path4 = 'data/company_list_ch.csv'"
   ]
  },
  {
   "cell_type": "code",
   "execution_count": 9,
   "metadata": {},
   "outputs": [
    {
     "name": "stdout",
     "output_type": "stream",
     "text": [
      "   rank             Name Location        Income\n",
      "0  名次\\n           企业名称\\n     地区\\n  营业收入\\n(亿元)\\n\n",
      "1   1\\n   中国石油化工集团有限公司\\n     北京\\n    27427.80\\n\n",
      "2   2\\n  中国石油天然气集团有限公司\\n     北京\\n    25994.17\\n\n",
      "3   3\\n       国家电网有限公司\\n     北京\\n    25602.54\\n\n",
      "4   4\\n     中国建筑股份有限公司\\n     北京\\n    11993.25\\n\n"
     ]
    }
   ],
   "source": [
    "df = pd.read_csv(path4, header=None, delimiter=\",\", skiprows=1, names=['rank', 'Name', 'Location', 'Income'])\n",
    "print(df.head())"
   ]
  },
  {
   "cell_type": "markdown",
   "metadata": {},
   "source": [
    "## Read Position Data"
   ]
  },
  {
   "cell_type": "code",
   "execution_count": 1,
   "metadata": {},
   "outputs": [],
   "source": [
    "import pandas as pd\n",
    "path5 = 'data/position.csv'"
   ]
  },
  {
   "cell_type": "code",
   "execution_count": 3,
   "metadata": {},
   "outputs": [
    {
     "name": "stdout",
     "output_type": "stream",
     "text": [
      "  position\n",
      "0    首席执行官\n",
      "1    首席运营官\n",
      "2    首席财务官\n",
      "3    首席信息官\n",
      "4   人力资源总监\n"
     ]
    }
   ],
   "source": [
    "df = pd.read_csv(path5, header=None, delimiter=\",\", skiprows=1, names=['position'])\n",
    "print(df.head())"
   ]
  },
  {
   "cell_type": "code",
   "execution_count": null,
   "metadata": {},
   "outputs": [],
   "source": []
  }
 ],
 "metadata": {
  "kernelspec": {
   "display_name": "Python 3",
   "language": "python",
   "name": "python3"
  },
  "language_info": {
   "codemirror_mode": {
    "name": "ipython",
    "version": 3
   },
   "file_extension": ".py",
   "mimetype": "text/x-python",
   "name": "python",
   "nbconvert_exporter": "python",
   "pygments_lexer": "ipython3",
   "version": "3.6.3rc1"
  }
 },
 "nbformat": 4,
 "nbformat_minor": 2
}
