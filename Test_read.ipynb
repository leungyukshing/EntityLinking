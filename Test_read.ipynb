{
 "cells": [
  {
   "cell_type": "markdown",
   "metadata": {},
   "source": [
    "# Testing Notebook\n",
    "This notebook is used for reading data from csv files."
   ]
  },
  {
   "cell_type": "markdown",
   "metadata": {},
   "source": [
    "## Read Chinese Universities"
   ]
  },
  {
   "cell_type": "code",
   "execution_count": 1,
   "metadata": {},
   "outputs": [],
   "source": [
    "import pandas as pd\n",
    "path0 = 'data/chinese_university_list.csv'"
   ]
  },
  {
   "cell_type": "code",
   "execution_count": 2,
   "metadata": {},
   "outputs": [
    {
     "name": "stdout",
     "output_type": "stream",
     "text": [
      "  rank    name          code department city level notes\n",
      "0    1    北京大学  4.111010e+09        教育部  北京市    本科   NaN\n",
      "1    2  中国人民大学  4.111010e+09        教育部  北京市    本科   NaN\n",
      "2    3    清华大学  4.111010e+09        教育部  北京市    本科   NaN\n",
      "3    4  北京交通大学  4.111010e+09        教育部  北京市    本科   NaN\n",
      "4    5  北京工业大学  4.111010e+09        北京市  北京市    本科   NaN\n"
     ]
    }
   ],
   "source": [
    "df = pd.read_csv(path0, header=None, delimiter=\",\", skiprows=4, names=[\"rank\", \"name\", \"code\", \"department\", \"city\", \"level\", \"notes\"])\n",
    "print(df.head())"
   ]
  },
  {
   "cell_type": "code",
   "execution_count": 5,
   "metadata": {},
   "outputs": [
    {
     "name": "stdout",
     "output_type": "stream",
     "text": [
      "  rank    name\n",
      "0    1    北京大学\n",
      "1    2  中国人民大学\n",
      "2    3    清华大学\n",
      "3    4  北京交通大学\n",
      "4    5  北京工业大学\n",
      "(2718, 2)\n"
     ]
    }
   ],
   "source": [
    "df = pd.DataFrame(df, columns=['rank', 'name'])\n",
    "print(df.head())\n",
    "print(df.shape)"
   ]
  },
  {
   "cell_type": "markdown",
   "metadata": {},
   "source": [
    "## Read Global Universities"
   ]
  },
  {
   "cell_type": "code",
   "execution_count": 13,
   "metadata": {},
   "outputs": [],
   "source": [
    "import pandas as pd\n",
    "path1 = 'data/list.csv'"
   ]
  },
  {
   "cell_type": "code",
   "execution_count": 14,
   "metadata": {},
   "outputs": [
    {
     "name": "stdout",
     "output_type": "stream",
     "text": [
      "                                       Name_en Name_ch rank score  \\\n",
      "0                                           原名    中文名称   名次    总分   \n",
      "1  Massachusetts Institute of Technology (MIT)  麻省理工学院    1   100   \n",
      "2                          Stanford University   斯坦福大学    2  98.4   \n",
      "3                           Harvard University    哈佛大学    3  97.4   \n",
      "4                         University of Oxford    牛津大学    4  97.2   \n",
      "\n",
      "         location  \n",
      "0             所在地  \n",
      "1   United States  \n",
      "2   United States  \n",
      "3   United States  \n",
      "4  United Kingdom  \n"
     ]
    }
   ],
   "source": [
    "df = pd.read_csv(path1, header=None, delimiter=\",\", skiprows=1, names=['Name_en', 'Name_ch', 'rank', 'score', 'location'])\n",
    "print(df.head())"
   ]
  },
  {
   "cell_type": "code",
   "execution_count": 15,
   "metadata": {},
   "outputs": [
    {
     "name": "stdout",
     "output_type": "stream",
     "text": [
      "  rank Name_ch        location\n",
      "0   名次    中文名称             所在地\n",
      "1    1  麻省理工学院   United States\n",
      "2    2   斯坦福大学   United States\n",
      "3    3    哈佛大学   United States\n",
      "4    4    牛津大学  United Kingdom\n",
      "(952, 3)\n"
     ]
    }
   ],
   "source": [
    "df = pd.DataFrame(df, columns=['rank', 'Name_ch', 'location'])\n",
    "print(df.head())\n",
    "print(df.shape)"
   ]
  },
  {
   "cell_type": "markdown",
   "metadata": {},
   "source": [
    "## Read All Universities"
   ]
  },
  {
   "cell_type": "code",
   "execution_count": 16,
   "metadata": {},
   "outputs": [
    {
     "name": "stdout",
     "output_type": "stream",
     "text": [
      "2718\n",
      "952\n",
      "           name\n",
      "0          中文名称\n",
      "1        麻省理工学院\n",
      "2         斯坦福大学\n",
      "3          哈佛大学\n",
      "4          牛津大学\n",
      "5        加州理工学院\n",
      "6     苏黎世联邦理工学院\n",
      "7          剑桥大学\n",
      "8        伦敦大学学院\n",
      "9        帝国理工学院\n",
      "10        芝加哥大学\n",
      "11      新加坡国立大学\n",
      "12       南洋理工大学\n",
      "13       普林斯顿大学\n",
      "14        康奈尔大学\n",
      "15      宾夕法尼亚大学\n",
      "16         清华大学\n",
      "17         耶鲁大学\n",
      "18   综合理工学校洛桑分校\n",
      "19       哥伦比亚大学\n",
      "20        爱丁堡大学\n",
      "21   密歇根大学安娜堡分校\n",
      "22         东京大学\n",
      "23         北京大学\n",
      "24     约翰霍普金斯大学\n",
      "25         香港大学\n",
      "26         杜克大学\n",
      "27       曼彻斯特大学\n",
      "28    加州大学伯克利分校\n",
      "29        多伦多大学\n",
      "..          ...\n",
      "922     布加勒斯特大学\n",
      "923  布达佩斯经济技术大学\n",
      "924      布达佩斯大学\n",
      "925    伯南布哥联邦大学\n",
      "926    波兰西里西亚大学\n",
      "927      波兰矿冶大学\n",
      "928      波多黎各大学\n",
      "929       波次南大学\n",
      "930   比尔拉科学技术学院\n",
      "931   贝拿勒斯印度教大学\n",
      "932        贝勒大学\n",
      "933     贝尔格莱德大学\n",
      "934     北京外国语大学\n",
      "935        鲍耶大学\n",
      "936  白俄罗斯国立技术大学\n",
      "937      巴西利亚大学\n",
      "938        巴林大学\n",
      "939        巴里大学\n",
      "940       巴勒摩大学\n",
      "941     巴拉那联邦大学\n",
      "942  巴基斯坦信息技术学院\n",
      "943      澳洲天主大学\n",
      "944       奥维多大学\n",
      "945        奥本大学\n",
      "946       安卡拉大学\n",
      "947   安德鲁贝罗天主大学\n",
      "948     艾因夏姆斯大学\n",
      "949      艾斯尤特大学\n",
      "950      阿姆里塔大学\n",
      "951   阿根廷国立理工大学\n",
      "\n",
      "[952 rows x 1 columns]\n",
      "3670\n"
     ]
    }
   ],
   "source": [
    "import pandas as pd\n",
    "path0 = 'data/chinese_university_list.csv'\n",
    "df1 = pd.read_csv(path0, header=None, delimiter=\",\", skiprows=4, names=[\"rank\", \"name\", \"code\", \"department\", \"city\", \"level\", \"notes\"])\n",
    "df1 = pd.DataFrame(df1, columns=['name'])\n",
    "print(df1.shape[0])\n",
    "\n",
    "path1 = 'data/all_university_list.csv'\n",
    "df2 = pd.read_csv(path1, header=None, delimiter=\",\", skiprows=1, names=['Name_en', 'name', 'rank', 'score', 'location'])\n",
    "df2 = pd.DataFrame(df2, columns=['name'])\n",
    "print(df2.shape[0])\n",
    "print(df2)\n",
    "\n",
    "df1 = pd.concat([df1, df2], axis=0, ignore_index=True)\n",
    "print(df1.shape[0])"
   ]
  },
  {
   "cell_type": "code",
   "execution_count": 17,
   "metadata": {},
   "outputs": [
    {
     "name": "stdout",
     "output_type": "stream",
     "text": [
      "            name\n",
      "0           北京大学\n",
      "1         中国人民大学\n",
      "2           清华大学\n",
      "3         北京交通大学\n",
      "4         北京工业大学\n",
      "5       北京航空航天大学\n",
      "6         北京理工大学\n",
      "7         北京科技大学\n",
      "8         北方工业大学\n",
      "9         北京化工大学\n",
      "10        北京工商大学\n",
      "11        北京服装学院\n",
      "12        北京邮电大学\n",
      "13        北京印刷学院\n",
      "14        北京建筑大学\n",
      "15      北京石油化工学院\n",
      "16      北京电子科技学院\n",
      "17        中国农业大学\n",
      "18         北京农学院\n",
      "19        北京林业大学\n",
      "20       北京协和医学院\n",
      "21        首都医科大学\n",
      "22       北京中医药大学\n",
      "23        北京师范大学\n",
      "24        首都师范大学\n",
      "25        首都体育学院\n",
      "26       北京外国语大学\n",
      "27     北京第二外国语学院\n",
      "28        北京语言大学\n",
      "29        中国传媒大学\n",
      "...          ...\n",
      "3640     布加勒斯特大学\n",
      "3641  布达佩斯经济技术大学\n",
      "3642      布达佩斯大学\n",
      "3643    伯南布哥联邦大学\n",
      "3644    波兰西里西亚大学\n",
      "3645      波兰矿冶大学\n",
      "3646      波多黎各大学\n",
      "3647       波次南大学\n",
      "3648   比尔拉科学技术学院\n",
      "3649   贝拿勒斯印度教大学\n",
      "3650        贝勒大学\n",
      "3651     贝尔格莱德大学\n",
      "3652     北京外国语大学\n",
      "3653        鲍耶大学\n",
      "3654  白俄罗斯国立技术大学\n",
      "3655      巴西利亚大学\n",
      "3656        巴林大学\n",
      "3657        巴里大学\n",
      "3658       巴勒摩大学\n",
      "3659     巴拉那联邦大学\n",
      "3660  巴基斯坦信息技术学院\n",
      "3661      澳洲天主大学\n",
      "3662       奥维多大学\n",
      "3663        奥本大学\n",
      "3664       安卡拉大学\n",
      "3665   安德鲁贝罗天主大学\n",
      "3666     艾因夏姆斯大学\n",
      "3667      艾斯尤特大学\n",
      "3668      阿姆里塔大学\n",
      "3669   阿根廷国立理工大学\n",
      "\n",
      "[3670 rows x 1 columns]\n"
     ]
    }
   ],
   "source": [
    "print(df1)"
   ]
  },
  {
   "cell_type": "markdown",
   "metadata": {},
   "source": [
    "## Read Companies"
   ]
  },
  {
   "cell_type": "code",
   "execution_count": 38,
   "metadata": {},
   "outputs": [],
   "source": [
    "import pandas as pd\n",
    "path2 = 'data/company_list.csv'"
   ]
  },
  {
   "cell_type": "code",
   "execution_count": 48,
   "metadata": {},
   "outputs": [
    {
     "name": "stdout",
     "output_type": "stream",
     "text": [
      "   rank rank_last      Name_ch                     Name_en       Income  \\\n",
      "0     1       1\\n          沃爾瑪                  Walmart）\\n    500,343\\n   \n",
      "1     2       2\\n       国家电网公司                State Grid\\n  348,903.1\\n   \n",
      "2     3       3\\n   中国石油化工集团公司             SINOPEC Group\\n    326,953\\n   \n",
      "3     4       4\\n  中国石油天然气集团公司  China National Petroleum\\n  326,007.6\\n   \n",
      "4     5       7\\n   荷兰皇家壳牌石油公司         Royal Dutch Shell\\n    311,870\\n   \n",
      "\n",
      "     Profits  Location  \n",
      "0    9,862\\n      美国\\n  \n",
      "1  9,533.4\\n    中国大陸\\n  \n",
      "2  1,537.8\\n    中国大陸\\n  \n",
      "3   -690.5\\n    中国大陸\\n  \n",
      "4   12,977\\n   荷兰/英国\\n  \n"
     ]
    }
   ],
   "source": [
    "df = pd.read_csv(path2, header=None, delimiter=\",\", skiprows=1, names=['rank', 'rank_last', 'Name_ch', 'Name_en', 'Income', 'Profits', 'Location'])\n",
    "print(df.head())"
   ]
  },
  {
   "cell_type": "code",
   "execution_count": 49,
   "metadata": {},
   "outputs": [
    {
     "name": "stdout",
     "output_type": "stream",
     "text": [
      "   rank      Name_ch  Location\n",
      "0     1          沃爾瑪      美国\\n\n",
      "1     2       国家电网公司    中国大陸\\n\n",
      "2     3   中国石油化工集团公司    中国大陸\\n\n",
      "3     4  中国石油天然气集团公司    中国大陸\\n\n",
      "4     5   荷兰皇家壳牌石油公司   荷兰/英国\\n\n",
      "(500, 3)\n"
     ]
    }
   ],
   "source": [
    "df = pd.DataFrame(df, columns=['rank', 'Name_ch', 'Location'])\n",
    "print(df.head())\n",
    "print(df.shape)"
   ]
  },
  {
   "cell_type": "markdown",
   "metadata": {},
   "source": [
    "## Read Member Data"
   ]
  },
  {
   "cell_type": "code",
   "execution_count": 1,
   "metadata": {},
   "outputs": [],
   "source": [
    "import pandas as pd\n",
    "path3 = 'data/member-data.csv'"
   ]
  },
  {
   "cell_type": "code",
   "execution_count": 2,
   "metadata": {},
   "outputs": [
    {
     "name": "stdout",
     "output_type": "stream",
     "text": [
      "                                              Resume\n",
      "0  __团队成员#1__先生是公司创始人,也是中国最有影响力的商界领袖之一。1982年,__团队...\n",
      "1  __团队成员#2__先生,现任TCL集团股份有限公司执行董事、总裁(COO)。1963年4月...\n",
      "2  __团队成员#3__女士:1972年7月出生,中山大学法学博士,高级经济师。1993年6月至...\n",
      "3  __团队成员#4__先生,1965年7月出生,东方电气集团党组副书记、副总经理,兼任东方电气...\n",
      "4  __团队成员#5__女士,现任TCL多媒体集团有限公司非执行独立董事、A8新媒体集团非执行独...\n"
     ]
    }
   ],
   "source": [
    "df = pd.read_csv(path3, header=None, delimiter=\",\", skiprows=1, names=['Company', 'No.', 'Resume', 'Position'])\n",
    "df = pd.DataFrame(df, columns=['Resume'])\n",
    "print(df.head())"
   ]
  },
  {
   "cell_type": "code",
   "execution_count": 3,
   "metadata": {},
   "outputs": [
    {
     "data": {
      "text/plain": [
       "Resume    __团队成员#1__先生是公司创始人,也是中国最有影响力的商界领袖之一。1982年,__团队...\n",
       "Name: 0, dtype: object"
      ]
     },
     "execution_count": 3,
     "metadata": {},
     "output_type": "execute_result"
    }
   ],
   "source": [
    "df.iloc[0,:]"
   ]
  },
  {
   "cell_type": "code",
   "execution_count": 7,
   "metadata": {},
   "outputs": [],
   "source": [
    "import pandas as pd\n",
    "path4 = 'data/company_list_ch.csv'"
   ]
  },
  {
   "cell_type": "code",
   "execution_count": 9,
   "metadata": {},
   "outputs": [
    {
     "name": "stdout",
     "output_type": "stream",
     "text": [
      "   rank             Name Location        Income\n",
      "0  名次\\n           企业名称\\n     地区\\n  营业收入\\n(亿元)\\n\n",
      "1   1\\n   中国石油化工集团有限公司\\n     北京\\n    27427.80\\n\n",
      "2   2\\n  中国石油天然气集团有限公司\\n     北京\\n    25994.17\\n\n",
      "3   3\\n       国家电网有限公司\\n     北京\\n    25602.54\\n\n",
      "4   4\\n     中国建筑股份有限公司\\n     北京\\n    11993.25\\n\n"
     ]
    }
   ],
   "source": [
    "df = pd.read_csv(path4, header=None, delimiter=\",\", skiprows=1, names=['rank', 'Name', 'Location', 'Income'])\n",
    "print(df.head())"
   ]
  },
  {
   "cell_type": "markdown",
   "metadata": {},
   "source": [
    "## Read Position Data"
   ]
  },
  {
   "cell_type": "code",
   "execution_count": 1,
   "metadata": {},
   "outputs": [],
   "source": [
    "import pandas as pd\n",
    "path5 = 'data/position.csv'"
   ]
  },
  {
   "cell_type": "code",
   "execution_count": 3,
   "metadata": {},
   "outputs": [
    {
     "name": "stdout",
     "output_type": "stream",
     "text": [
      "  position\n",
      "0    首席执行官\n",
      "1    首席运营官\n",
      "2    首席财务官\n",
      "3    首席信息官\n",
      "4   人力资源总监\n"
     ]
    }
   ],
   "source": [
    "df = pd.read_csv(path5, header=None, delimiter=\",\", skiprows=1, names=['position'])\n",
    "print(df.head())"
   ]
  },
  {
   "cell_type": "markdown",
   "metadata": {},
   "source": [
    "## Read All Position Data"
   ]
  },
  {
   "cell_type": "code",
   "execution_count": 30,
   "metadata": {},
   "outputs": [
    {
     "name": "stdout",
     "output_type": "stream",
     "text": [
      "  position\n",
      "0    首席执行官\n",
      "1    首席运营官\n",
      "2    首席财务官\n",
      "3    首席信息官\n",
      "4   人力资源总监\n",
      "         position\n",
      "0  董事长&执行董事&首席执行官\n",
      "1         执行董事&总裁\n",
      "2              董事\n",
      "3        董事&高级副总裁\n",
      "4              董事\n",
      "  position\n",
      "0    首席执行官\n",
      "1    首席运营官\n",
      "2    首席财务官\n",
      "3    首席信息官\n",
      "4   人力资源总监\n"
     ]
    }
   ],
   "source": [
    "import pandas as pd\n",
    "path5 = 'data/position.csv'\n",
    "df1 = pd.read_csv(path5, header=None, delimiter=\",\", skiprows=1, names=['position'])\n",
    "df1 = pd.DataFrame(df1)\n",
    "print(df1.head())\n",
    "\n",
    "path6 = 'data/member-data.csv'\n",
    "df2 = pd.read_csv(path6, header=None, delimiter=\",\", skiprows=1, names=['Company', 'No.', 'Resume', 'position'])\n",
    "df2 = pd.DataFrame(df2, columns=['position'])\n",
    "print(df2.head())\n",
    "\n",
    "member_position_list = []\n",
    "# process position in member-data\n",
    "for index, row in df2.iterrows():\n",
    "    position = row['position']\n",
    "    if isinstance(position, float) or position == \" \" or position.isalpha():\n",
    "        continue\n",
    "    if \"&\" in position:\n",
    "        temp1 = position.split('&')\n",
    "        member_position_list += temp1\n",
    "    elif \" \" in position:\n",
    "        temp2 = position.split( )\n",
    "        member_position_list += temp2\n",
    "    else:\n",
    "        member_position_list.append(position)\n",
    "\n",
    "df3 = pd.DataFrame(member_position_list, columns=['position'])\n",
    "df3 = df3.drop_duplicates(subset=['position'], keep='first')\n",
    "df1 = pd.concat([df1, df3], axis=0, ignore_index=True)\n",
    "print(df1.head())"
   ]
  },
  {
   "cell_type": "code",
   "execution_count": null,
   "metadata": {},
   "outputs": [],
   "source": []
  }
 ],
 "metadata": {
  "kernelspec": {
   "display_name": "Python 3",
   "language": "python",
   "name": "python3"
  },
  "language_info": {
   "codemirror_mode": {
    "name": "ipython",
    "version": 3
   },
   "file_extension": ".py",
   "mimetype": "text/x-python",
   "name": "python",
   "nbconvert_exporter": "python",
   "pygments_lexer": "ipython3",
   "version": "3.6.3rc1"
  }
 },
 "nbformat": 4,
 "nbformat_minor": 2
}
