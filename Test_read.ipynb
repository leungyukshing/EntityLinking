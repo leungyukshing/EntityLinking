{
 "cells": [
  {
   "cell_type": "markdown",
   "metadata": {},
   "source": [
    "# Testing Notebook\n",
    "This notebook is used for reading data from csv files."
   ]
  },
  {
   "cell_type": "markdown",
   "metadata": {},
   "source": [
    "## Read Chinese Universities"
   ]
  },
  {
   "cell_type": "code",
   "execution_count": 22,
   "metadata": {},
   "outputs": [],
   "source": [
    "import pandas as pd\n",
    "path0 = 'data/chinese_university_list.csv'"
   ]
  },
  {
   "cell_type": "code",
   "execution_count": 27,
   "metadata": {},
   "outputs": [
    {
     "name": "stdout",
     "output_type": "stream",
     "text": [
      "  rank    name          code department city level notes\n",
      "0    1    北京大学  4.111010e+09        教育部  北京市    本科   NaN\n",
      "1    2  中国人民大学  4.111010e+09        教育部  北京市    本科   NaN\n",
      "2    3    清华大学  4.111010e+09        教育部  北京市    本科   NaN\n",
      "3    4  北京交通大学  4.111010e+09        教育部  北京市    本科   NaN\n",
      "4    5  北京工业大学  4.111010e+09        北京市  北京市    本科   NaN\n"
     ]
    }
   ],
   "source": [
    "df = pd.read_csv(path0, header=None, delimiter=\",\", skiprows=4, names=[\"rank\", \"name\", \"code\", \"department\", \"city\", \"level\", \"notes\"])\n",
    "print(df.head())"
   ]
  },
  {
   "cell_type": "code",
   "execution_count": 31,
   "metadata": {},
   "outputs": [
    {
     "name": "stdout",
     "output_type": "stream",
     "text": [
      "  rank    name\n",
      "0    1    北京大学\n",
      "1    2  中国人民大学\n",
      "2    3    清华大学\n",
      "3    4  北京交通大学\n",
      "4    5  北京工业大学\n",
      "(2718, 2)\n"
     ]
    }
   ],
   "source": [
    "df = pd.DataFrame(df, columns=['rank', 'name'])\n",
    "print(df.head())\n",
    "print(df.shape)"
   ]
  },
  {
   "cell_type": "markdown",
   "metadata": {},
   "source": [
    "## Read World Universities"
   ]
  },
  {
   "cell_type": "code",
   "execution_count": 32,
   "metadata": {},
   "outputs": [],
   "source": [
    "import pandas as pd\n",
    "path1 = 'data/list.csv'"
   ]
  },
  {
   "cell_type": "code",
   "execution_count": 36,
   "metadata": {},
   "outputs": [
    {
     "name": "stdout",
     "output_type": "stream",
     "text": [
      "                                       Name_en Name_ch rank score  \\\n",
      "0                                           原名    中文名称   名次    总分   \n",
      "1  Massachusetts Institute of Technology (MIT)  麻省理工学院    1   100   \n",
      "2                          Stanford University   斯坦福大学    2  98.4   \n",
      "3                           Harvard University    哈佛大学    3  97.4   \n",
      "4                         University of Oxford    牛津大学    4  97.2   \n",
      "\n",
      "         location  \n",
      "0             所在地  \n",
      "1   United States  \n",
      "2   United States  \n",
      "3   United States  \n",
      "4  United Kingdom  \n"
     ]
    }
   ],
   "source": [
    "df = pd.read_csv(path1, header=None, delimiter=\",\", skiprows=1, names=['Name_en', 'Name_ch', 'rank', 'score', 'location'])\n",
    "print(df.head())"
   ]
  },
  {
   "cell_type": "code",
   "execution_count": 37,
   "metadata": {},
   "outputs": [
    {
     "name": "stdout",
     "output_type": "stream",
     "text": [
      "  rank Name_ch        location\n",
      "0   名次    中文名称             所在地\n",
      "1    1  麻省理工学院   United States\n",
      "2    2   斯坦福大学   United States\n",
      "3    3    哈佛大学   United States\n",
      "4    4    牛津大学  United Kingdom\n",
      "(952, 3)\n"
     ]
    }
   ],
   "source": [
    "df = pd.DataFrame(df, columns=['rank', 'Name_ch', 'location'])\n",
    "print(df.head())\n",
    "print(df.shape)"
   ]
  },
  {
   "cell_type": "markdown",
   "metadata": {},
   "source": [
    "## Read Companies"
   ]
  },
  {
   "cell_type": "code",
   "execution_count": 38,
   "metadata": {},
   "outputs": [],
   "source": [
    "import pandas as pd\n",
    "path2 = 'data/company_list.csv'"
   ]
  },
  {
   "cell_type": "code",
   "execution_count": 48,
   "metadata": {},
   "outputs": [
    {
     "name": "stdout",
     "output_type": "stream",
     "text": [
      "   rank rank_last      Name_ch                     Name_en       Income  \\\n",
      "0     1       1\\n          沃爾瑪                  Walmart）\\n    500,343\\n   \n",
      "1     2       2\\n       国家电网公司                State Grid\\n  348,903.1\\n   \n",
      "2     3       3\\n   中国石油化工集团公司             SINOPEC Group\\n    326,953\\n   \n",
      "3     4       4\\n  中国石油天然气集团公司  China National Petroleum\\n  326,007.6\\n   \n",
      "4     5       7\\n   荷兰皇家壳牌石油公司         Royal Dutch Shell\\n    311,870\\n   \n",
      "\n",
      "     Profits  Location  \n",
      "0    9,862\\n      美国\\n  \n",
      "1  9,533.4\\n    中国大陸\\n  \n",
      "2  1,537.8\\n    中国大陸\\n  \n",
      "3   -690.5\\n    中国大陸\\n  \n",
      "4   12,977\\n   荷兰/英国\\n  \n"
     ]
    }
   ],
   "source": [
    "df = pd.read_csv(path2, header=None, delimiter=\",\", skiprows=1, names=['rank', 'rank_last', 'Name_ch', 'Name_en', 'Income', 'Profits', 'Location'])\n",
    "print(df.head())"
   ]
  },
  {
   "cell_type": "code",
   "execution_count": 49,
   "metadata": {},
   "outputs": [
    {
     "name": "stdout",
     "output_type": "stream",
     "text": [
      "   rank      Name_ch  Location\n",
      "0     1          沃爾瑪      美国\\n\n",
      "1     2       国家电网公司    中国大陸\\n\n",
      "2     3   中国石油化工集团公司    中国大陸\\n\n",
      "3     4  中国石油天然气集团公司    中国大陸\\n\n",
      "4     5   荷兰皇家壳牌石油公司   荷兰/英国\\n\n",
      "(500, 3)\n"
     ]
    }
   ],
   "source": [
    "df = pd.DataFrame(df, columns=['rank', 'Name_ch', 'Location'])\n",
    "print(df.head())\n",
    "print(df.shape)"
   ]
  },
  {
   "cell_type": "code",
   "execution_count": null,
   "metadata": {},
   "outputs": [],
   "source": []
  }
 ],
 "metadata": {
  "kernelspec": {
   "display_name": "Python 3",
   "language": "python",
   "name": "python3"
  },
  "language_info": {
   "codemirror_mode": {
    "name": "ipython",
    "version": 3
   },
   "file_extension": ".py",
   "mimetype": "text/x-python",
   "name": "python",
   "nbconvert_exporter": "python",
   "pygments_lexer": "ipython3",
   "version": "3.6.3rc1"
  }
 },
 "nbformat": 4,
 "nbformat_minor": 2
}
